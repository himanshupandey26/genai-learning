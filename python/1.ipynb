{
 "cells": [
  {
   "cell_type": "markdown",
   "id": "8891c692",
   "metadata": {},
   "source": [
    "### Basic python"
   ]
  },
  {
   "cell_type": "markdown",
   "id": "34ed9ec7",
   "metadata": {},
   "source": [
    "##### Variables"
   ]
  },
  {
   "cell_type": "code",
   "execution_count": 3,
   "id": "4e013093",
   "metadata": {},
   "outputs": [
    {
     "data": {
      "text/plain": [
       "5"
      ]
     },
     "execution_count": 3,
     "metadata": {},
     "output_type": "execute_result"
    }
   ],
   "source": [
    "a = 5\n",
    "a"
   ]
  },
  {
   "cell_type": "code",
   "execution_count": 7,
   "id": "d0a51b29",
   "metadata": {},
   "outputs": [
    {
     "data": {
      "text/plain": [
       "'Himanshu'"
      ]
     },
     "execution_count": 7,
     "metadata": {},
     "output_type": "execute_result"
    }
   ],
   "source": [
    "b = \"Himanshu\"\n",
    "b"
   ]
  },
  {
   "cell_type": "code",
   "execution_count": 9,
   "id": "10445f58",
   "metadata": {},
   "outputs": [
    {
     "data": {
      "text/plain": [
       "5"
      ]
     },
     "execution_count": 9,
     "metadata": {},
     "output_type": "execute_result"
    }
   ],
   "source": [
    "b\n",
    "a"
   ]
  },
  {
   "cell_type": "code",
   "execution_count": 11,
   "id": "50fd7fc4",
   "metadata": {},
   "outputs": [
    {
     "name": "stdout",
     "output_type": "stream",
     "text": [
      "5\n",
      "Himanshu\n"
     ]
    }
   ],
   "source": [
    "print(a)\n",
    "print(b)"
   ]
  },
  {
   "cell_type": "code",
   "execution_count": null,
   "id": "f25e8f06",
   "metadata": {},
   "outputs": [
    {
     "name": "stdout",
     "output_type": "stream",
     "text": [
      "10\n",
      "15\n",
      "31\n",
      "-3  type is -> <class 'int'>\n"
     ]
    }
   ],
   "source": [
    "c = int(5.745)\n",
    "c = int('34')\n",
    "# c = int(3+5j) Error\n",
    "# c = int('True') ya int('4.5')  Error\n",
    "# c = int(\"Hello\") Error\n",
    "# c = int(\"\") Error\n",
    "c = int(float('3.233'))\n",
    "c = int(True)\n",
    "c = int(False)\n",
    "c = int(\"10\",2) # binary to int\n",
    "c = int(-3.3)\n",
    "c = int(\"-3\")\n",
    "\n",
    "# print(int(\"1010\", 2))   # 👉 10  (base 2)\n",
    "# print(int(\"17\", 8))     # 👉 15  (base 8)\n",
    "# print(int(\"1F\", 16))    # 👉 31  (base 16)\n",
    "print(c,\" type is ->\",type(c))"
   ]
  },
  {
   "cell_type": "code",
   "execution_count": 57,
   "id": "033b62b1",
   "metadata": {},
   "outputs": [
    {
     "data": {
      "text/plain": [
       "20000.0"
      ]
     },
     "execution_count": 57,
     "metadata": {},
     "output_type": "execute_result"
    }
   ],
   "source": [
    "c = 1e3 #1000.0\n",
    "c = float(\"2e4\")\n",
    "c"
   ]
  },
  {
   "cell_type": "code",
   "execution_count": 66,
   "id": "da802c61",
   "metadata": {},
   "outputs": [
    {
     "name": "stdout",
     "output_type": "stream",
     "text": [
      "AmanSharma\n",
      "Aman Sharma\n",
      "Aman Sharma age is 22\n",
      "Aman Sharma age is 22\n",
      "Aman Sharma age is 22\n"
     ]
    }
   ],
   "source": [
    "P = \"Aman\"\n",
    "p = \"Sharma\"\n",
    "age = 22\n",
    "print(P + p) # AmanSharma\n",
    "print(P + \" \" + p) # Aman Sharma\n",
    "# print(P + \" \" + p + \" age is \" + age) # age is integer type Error: can only concatenate str (not \"int\") to str\n",
    "print(P + \" \" + p + \" age is \" + str(age)) # age is integer type Error: can only concatenate str (not \"int\") to str\n",
    "print(P,p,\"age is\",age)\n",
    "print(f\"{P} {p} age is {age}\")"
   ]
  },
  {
   "cell_type": "code",
   "execution_count": 70,
   "id": "d6f7b02c",
   "metadata": {},
   "outputs": [],
   "source": [
    "variable = 3\n",
    "Variable = 3\n",
    "variable5 = 3\n",
    "vari_able = 3\n",
    "_variable = 3\n",
    "VARIABLE = 3"
   ]
  },
  {
   "cell_type": "code",
   "execution_count": 73,
   "id": "d6b73868",
   "metadata": {},
   "outputs": [
    {
     "ename": "SyntaxError",
     "evalue": "invalid decimal literal (3168853200.py, line 1)",
     "output_type": "error",
     "traceback": [
      "  \u001b[36mCell\u001b[39m\u001b[36m \u001b[39m\u001b[32mIn[73]\u001b[39m\u001b[32m, line 1\u001b[39m\n\u001b[31m    \u001b[39m\u001b[31m2variable = 3\u001b[39m\n    ^\n\u001b[31mSyntaxError\u001b[39m\u001b[31m:\u001b[39m invalid decimal literal\n"
     ]
    }
   ],
   "source": [
    "2variable = 3"
   ]
  },
  {
   "cell_type": "code",
   "execution_count": 81,
   "id": "0929de9b",
   "metadata": {},
   "outputs": [
    {
     "name": "stdout",
     "output_type": "stream",
     "text": [
      "1 2 3\n",
      "5 5 5\n",
      "(1, 2, 3)\n",
      "1 2 3\n"
     ]
    }
   ],
   "source": [
    "a, b, c = 1,2,3\n",
    "print(a,b,c)\n",
    "x = y = z = 5\n",
    "print(x,y,z)\n",
    "m = 1,2,3\n",
    "print(m)\n",
    "x,y,z = m\n",
    "print(x,y,z)"
   ]
  },
  {
   "cell_type": "code",
   "execution_count": 89,
   "id": "c2c47134",
   "metadata": {},
   "outputs": [
    {
     "name": "stdout",
     "output_type": "stream",
     "text": [
      "length:  7\n",
      "a\n",
      "b\n",
      "c\n",
      "d\n",
      "e\n",
      "f\n",
      "g\n"
     ]
    }
   ],
   "source": [
    "word = \"abcdefg\"\n",
    "print(\"length: \",len(word))\n",
    "\n",
    "print(word[0])\n",
    "print(word[1])\n",
    "print(word[2])\n",
    "print(word[3])\n",
    "print(word[4])\n",
    "print(word[5])\n",
    "print(word[6])"
   ]
  },
  {
   "cell_type": "code",
   "execution_count": 87,
   "id": "88be2517",
   "metadata": {},
   "outputs": [
    {
     "name": "stdout",
     "output_type": "stream",
     "text": [
      "Into the sunshine,\n",
      "from morn till night\n",
      "            -HP\n",
      "length:  55\n"
     ]
    }
   ],
   "source": [
    "str1 = '''Into the sunshine,\n",
    "from morn till night\n",
    "            -HP'''\n",
    "print(str1)\n",
    "print(\"length: \",len(str1))\n"
   ]
  },
  {
   "cell_type": "code",
   "execution_count": 1,
   "id": "95fc5754",
   "metadata": {},
   "outputs": [
    {
     "name": "stdout",
     "output_type": "stream",
     "text": [
      "['__add__', '__class__', '__contains__', '__delattr__', '__dir__', '__doc__', '__eq__', '__format__', '__ge__', '__getattribute__', '__getitem__', '__getnewargs__', '__getstate__', '__gt__', '__hash__', '__init__', '__init_subclass__', '__iter__', '__le__', '__len__', '__lt__', '__mod__', '__mul__', '__ne__', '__new__', '__reduce__', '__reduce_ex__', '__repr__', '__rmod__', '__rmul__', '__setattr__', '__sizeof__', '__str__', '__subclasshook__', 'capitalize', 'casefold', 'center', 'count', 'encode', 'endswith', 'expandtabs', 'find', 'format', 'format_map', 'index', 'isalnum', 'isalpha', 'isascii', 'isdecimal', 'isdigit', 'isidentifier', 'islower', 'isnumeric', 'isprintable', 'isspace', 'istitle', 'isupper', 'join', 'ljust', 'lower', 'lstrip', 'maketrans', 'partition', 'removeprefix', 'removesuffix', 'replace', 'rfind', 'rindex', 'rjust', 'rpartition', 'rsplit', 'rstrip', 'split', 'splitlines', 'startswith', 'strip', 'swapcase', 'title', 'translate', 'upper', 'zfill']\n"
     ]
    }
   ],
   "source": [
    "print(dir(str))"
   ]
  }
 ],
 "metadata": {
  "kernelspec": {
   "display_name": "myenv",
   "language": "python",
   "name": "python3"
  },
  "language_info": {
   "codemirror_mode": {
    "name": "ipython",
    "version": 3
   },
   "file_extension": ".py",
   "mimetype": "text/x-python",
   "name": "python",
   "nbconvert_exporter": "python",
   "pygments_lexer": "ipython3",
   "version": "3.12.3"
  }
 },
 "nbformat": 4,
 "nbformat_minor": 5
}
