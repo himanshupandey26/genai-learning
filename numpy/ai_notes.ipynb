{
 "cells": [
  {
   "cell_type": "markdown",
   "id": "dd809698",
   "metadata": {},
   "source": [
    "1. Introduction and Installation\n"
   ]
  },
  {
   "cell_type": "code",
   "execution_count": 1,
   "id": "2093af76",
   "metadata": {},
   "outputs": [
    {
     "name": "stdout",
     "output_type": "stream",
     "text": [
      "NumPy version: 2.3.4\n"
     ]
    }
   ],
   "source": [
    "# NumPy is the fundamental package for scientific computing in Python\n",
    "# It provides support for large, multi-dimensional arrays and matrices\n",
    "\n",
    "import numpy as np\n",
    "\n",
    "# Check NumPy version\n",
    "print(\"NumPy version:\", np.__version__)"
   ]
  },
  {
   "cell_type": "markdown",
   "id": "d30500bb",
   "metadata": {},
   "source": [
    "2. Creating Arrays"
   ]
  },
  {
   "cell_type": "code",
   "execution_count": 2,
   "id": "fa9d73aa",
   "metadata": {},
   "outputs": [
    {
     "name": "stdout",
     "output_type": "stream",
     "text": [
      "1D Array: [1 2 3 4 5]\n",
      "Type: <class 'numpy.ndarray'>\n",
      "Data type: int64\n",
      "\n",
      "2D Array:\n",
      " [[1 2 3]\n",
      " [4 5 6]]\n",
      "Shape: (2, 3)\n",
      "Dimensions: 2\n",
      "Size (total elements): 6\n"
     ]
    }
   ],
   "source": [
    "# Creating arrays from Python lists\n",
    "# 1D Array (Vector)\n",
    "arr1 = np.array([1, 2, 3, 4, 5])\n",
    "print(\"1D Array:\", arr1)\n",
    "print(\"Type:\", type(arr1))\n",
    "print(\"Data type:\", arr1.dtype)\n",
    "print()\n",
    "\n",
    "# 2D Array (Matrix)\n",
    "arr2 = np.array([[1, 2, 3], [4, 5, 6]])\n",
    "print(\"2D Array:\\n\", arr2)\n",
    "print(\"Shape:\", arr2.shape)  # (rows, columns)\n",
    "print(\"Dimensions:\", arr2.ndim)\n",
    "print(\"Size (total elements):\", arr2.size)"
   ]
  },
  {
   "cell_type": "markdown",
   "id": "8a132700",
   "metadata": {},
   "source": [
    "3. Array Creation Functions\n"
   ]
  },
  {
   "cell_type": "code",
   "execution_count": 3,
   "id": "1b3094cb",
   "metadata": {},
   "outputs": [
    {
     "name": "stdout",
     "output_type": "stream",
     "text": [
      "Zeros array:\n",
      " [[0. 0. 0. 0.]\n",
      " [0. 0. 0. 0.]\n",
      " [0. 0. 0. 0.]]\n",
      "\n",
      "Ones array:\n",
      " [[1. 1. 1.]\n",
      " [1. 1. 1.]]\n",
      "\n",
      "Full array (filled with 7):\n",
      " [[7 7]\n",
      " [7 7]]\n",
      "\n",
      "Identity matrix:\n",
      " [[1. 0. 0.]\n",
      " [0. 1. 0.]\n",
      " [0. 0. 1.]]\n",
      "\n",
      "Range array: [0 2 4 6 8]\n",
      "\n",
      "Linearly spaced: [0.   0.25 0.5  0.75 1.  ]\n",
      "\n",
      "Random array:\n",
      " [[0.27539817 0.02161368 0.21546467]\n",
      " [0.3256759  0.82266403 0.19782193]]\n",
      "\n",
      "Random integers:\n",
      " [[14  6 60]\n",
      " [ 3 82 96]\n",
      " [76 80 87]]\n"
     ]
    }
   ],
   "source": [
    "# Creating arrays with built-in functions\n",
    "\n",
    "# Array of zeros\n",
    "zeros = np.zeros((3, 4))  # 3 rows, 4 columns\n",
    "print(\"Zeros array:\\n\", zeros)\n",
    "print()\n",
    "\n",
    "# Array of ones\n",
    "ones = np.ones((2, 3))\n",
    "print(\"Ones array:\\n\", ones)\n",
    "print()\n",
    "\n",
    "# Array with a specific value\n",
    "full = np.full((2, 2), 7)\n",
    "print(\"Full array (filled with 7):\\n\", full)\n",
    "print()\n",
    "\n",
    "# Identity matrix\n",
    "identity = np.eye(3)  # 3x3 identity matrix\n",
    "print(\"Identity matrix:\\n\", identity)\n",
    "print()\n",
    "\n",
    "# Array with a range of values\n",
    "range_arr = np.arange(0, 10, 2)  # start, stop, step\n",
    "print(\"Range array:\", range_arr)\n",
    "print()\n",
    "\n",
    "# Linearly spaced array\n",
    "linspace = np.linspace(0, 1, 5)  # 5 values from 0 to 1\n",
    "print(\"Linearly spaced:\", linspace)\n",
    "print()\n",
    "\n",
    "# Random arrays\n",
    "random_arr = np.random.random((2, 3))  # values between 0 and 1\n",
    "print(\"Random array:\\n\", random_arr)\n",
    "print()\n",
    "\n",
    "# Random integers\n",
    "random_int = np.random.randint(1, 100, size=(3, 3))  # integers from 1 to 99\n",
    "print(\"Random integers:\\n\", random_int)\n"
   ]
  }
 ],
 "metadata": {
  "kernelspec": {
   "display_name": "myenv",
   "language": "python",
   "name": "python3"
  },
  "language_info": {
   "codemirror_mode": {
    "name": "ipython",
    "version": 3
   },
   "file_extension": ".py",
   "mimetype": "text/x-python",
   "name": "python",
   "nbconvert_exporter": "python",
   "pygments_lexer": "ipython3",
   "version": "3.12.3"
  }
 },
 "nbformat": 4,
 "nbformat_minor": 5
}
