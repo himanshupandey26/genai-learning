{
 "cells": [
  {
   "cell_type": "markdown",
   "id": "67f57acb",
   "metadata": {},
   "source": [
    "## Numpy array and basics\n",
    "learn about numpy"
   ]
  },
  {
   "cell_type": "code",
   "execution_count": 44,
   "id": "cc5bb259",
   "metadata": {},
   "outputs": [
    {
     "name": "stdout",
     "output_type": "stream",
     "text": [
      "2.3.4\n"
     ]
    }
   ],
   "source": [
    "import numpy as np\n",
    "print(np.__version__)"
   ]
  },
  {
   "cell_type": "markdown",
   "id": "4a8882d7",
   "metadata": {},
   "source": [
    "#### Creating array"
   ]
  },
  {
   "cell_type": "code",
   "execution_count": 45,
   "id": "b968ebdf",
   "metadata": {},
   "outputs": [
    {
     "name": "stdout",
     "output_type": "stream",
     "text": [
      "1D array:  [1 2 3 4 5]\n",
      "2D array:  [[1 2 3]\n",
      " [4 5 6]]\n"
     ]
    }
   ],
   "source": [
    "arr_1d = np.array([1,2,3,4,5]) # array take one array as parameter\n",
    "print(\"1D array: \", arr_1d)\n",
    "\n",
    "# arr_2d = np.array([1,2,3],[4,5,6]) # Error\n",
    "arr_2d = np.array([[1,2,3],[4,5,6]]) \n",
    "print(\"2D array: \",arr_2d)"
   ]
  },
  {
   "cell_type": "markdown",
   "id": "4f291f42",
   "metadata": {},
   "source": [
    "#### List vs numpy array"
   ]
  },
  {
   "cell_type": "code",
   "execution_count": 46,
   "id": "d6703035",
   "metadata": {},
   "outputs": [
    {
     "name": "stdout",
     "output_type": "stream",
     "text": [
      "Python list multiplication:  [1, 2, 3, 1, 2, 3]\n",
      "Python array multiplication:  [2 4 6]\n",
      "\n",
      " List operation time:  0.09409499168395996\n",
      "\n",
      " Numpy array operation time:  0.0061986446380615234\n"
     ]
    }
   ],
   "source": [
    "py_list = [1,2,3]\n",
    "print(\"Python list multiplication: \", py_list*2)\n",
    "\n",
    "np_array = np.array([1,2,3])\n",
    "print(\"Python array multiplication: \", np_array*2)\n",
    "\n",
    "import time\n",
    "start = time.time()\n",
    "py_list = [ i*2 for i in range(1000000)]\n",
    "print(\"\\n List operation time: \", time.time() - start)\n",
    "\n",
    "start = time.time()\n",
    "np_array = np.arange(1000000)*2\n",
    "print(\"\\n Numpy array operation time: \", time.time() - start)\n"
   ]
  },
  {
   "cell_type": "markdown",
   "id": "84e1a942",
   "metadata": {},
   "source": [
    "#### Creating array from scratch"
   ]
  },
  {
   "cell_type": "code",
   "execution_count": 47,
   "id": "975a027f",
   "metadata": {},
   "outputs": [
    {
     "name": "stdout",
     "output_type": "stream",
     "text": [
      "Zero array: \n",
      " [[0. 0. 0. 0.]\n",
      " [0. 0. 0. 0.]\n",
      " [0. 0. 0. 0.]]\n",
      "Ones array: \n",
      " [[1. 1. 1. 1.]\n",
      " [1. 1. 1. 1.]]\n",
      "full array: \n",
      " [[7 7 7]\n",
      " [7 7 7]]\n",
      "Sequence array: \n",
      " [ 1  3  5  7  9 11 13 15 17 19]\n"
     ]
    }
   ],
   "source": [
    "zeros = np.zeros((3,4))\n",
    "print(\"Zero array: \\n\", zeros)\n",
    "\n",
    "ones = np.ones((2,4))\n",
    "print(\"Ones array: \\n\", ones)\n",
    "\n",
    "full = np.full((2,3),7)\n",
    "print(\"full array: \\n\",full)\n",
    "\n",
    "# sequence = np.arange(15) #  [ 0  1  2  3  4  5  6  7  8  9 10 11 12 13 14]\n",
    "sequence = np.arange(1,20,2)\n",
    "print(\"Sequence array: \\n\", sequence)"
   ]
  },
  {
   "cell_type": "markdown",
   "id": "3569e01a",
   "metadata": {},
   "source": [
    "#### Vector, Matrix and Tensor\n"
   ]
  },
  {
   "cell_type": "code",
   "execution_count": 48,
   "id": "bbd76738",
   "metadata": {},
   "outputs": [
    {
     "name": "stdout",
     "output_type": "stream",
     "text": [
      "Vector: \n",
      " [1 2 3 4 5 6 7 8]\n",
      "Matrix: \n",
      " [[1 2 3]\n",
      " [4 5 6]]\n",
      "Tensor: \n",
      " [[[1 2]\n",
      "  [3 4]]\n",
      "\n",
      " [[5 6]\n",
      "  [7 8]]]\n"
     ]
    }
   ],
   "source": [
    "vector = np.array([1,2,3,4,5,6,7,8])\n",
    "print(\"Vector: \\n\", vector)\n",
    "matrix = np.array([[1,2,3],\n",
    "                   [4,5,6]])\n",
    "print(\"Matrix: \\n\", matrix)\n",
    "\n",
    "tensor = np.array([[[1,2],[3,4]],\n",
    "                   [[5,6],[7,8]]])\n",
    "print(\"Tensor: \\n\", tensor)\n"
   ]
  },
  {
   "cell_type": "markdown",
   "id": "821db5e0",
   "metadata": {},
   "source": [
    "#### Array properties\n"
   ]
  },
  {
   "cell_type": "code",
   "execution_count": 49,
   "id": "cb188022",
   "metadata": {},
   "outputs": [
    {
     "name": "stdout",
     "output_type": "stream",
     "text": [
      "Shape  (2, 2, 2)\n",
      "Dimension  3\n",
      "Size  8\n",
      "DType  int64\n"
     ]
    }
   ],
   "source": [
    "vector = np.array([1,2,3,4,5,6,7,8])\n",
    "matrix = np.array([[1,2,3],\n",
    "                   [4,5,6]])\n",
    "tensor = np.array([[[1,2],[3,4]],\n",
    "                   [[5,6],[7,8]]])\n",
    "\n",
    "print(\"Shape \", tensor.shape)\n",
    "print(\"Dimension \", tensor.ndim)\n",
    "print(\"Size \", tensor.size)\n",
    "print(\"DType \", tensor.dtype)"
   ]
  },
  {
   "cell_type": "markdown",
   "id": "bd1792ab",
   "metadata": {},
   "source": [
    "#### Array Reshaping\n"
   ]
  },
  {
   "cell_type": "code",
   "execution_count": 50,
   "id": "973dd855",
   "metadata": {},
   "outputs": [
    {
     "name": "stdout",
     "output_type": "stream",
     "text": [
      "Reshaped array: \n",
      " [[ 0  1  2  3]\n",
      " [ 4  5  6  7]\n",
      " [ 8  9 10 11]]\n",
      "flatten array: \n",
      " [ 0  1  2  3  4  5  6  7  8  9 10 11]\n",
      "ravel array: \n",
      " [ 0  1  2  3  4  5  6  7  8  9 10 11]\n",
      "Transpose array: \n",
      " [[ 0  4  8]\n",
      " [ 1  5  9]\n",
      " [ 2  6 10]\n",
      " [ 3  7 11]]\n"
     ]
    }
   ],
   "source": [
    "\n",
    "arr = np.arange(12)\n",
    "reshaped = arr.reshape((3,4))\n",
    "print(\"Reshaped array: \\n\", reshaped)\n",
    "\n",
    "flatten_arr = reshaped.flatten()\n",
    "print(\"flatten array: \\n\", flatten_arr)\n",
    "# print(\"Reshaped array: \\n\", reshaped)\n",
    "\n",
    "\n",
    "# ravel (returns view, instead of copy)\n",
    "ravel_arr = reshaped.ravel()\n",
    "print(\"ravel array: \\n\", ravel_arr)\n",
    "# print(\"Reshaped array: \\n\", reshaped)\n",
    "\n",
    "transpose_arr = reshaped.T\n",
    "print(\"Transpose array: \\n\", transpose_arr)\n"
   ]
  }
 ],
 "metadata": {
  "kernelspec": {
   "display_name": "myenv",
   "language": "python",
   "name": "python3"
  },
  "language_info": {
   "codemirror_mode": {
    "name": "ipython",
    "version": 3
   },
   "file_extension": ".py",
   "mimetype": "text/x-python",
   "name": "python",
   "nbconvert_exporter": "python",
   "pygments_lexer": "ipython3",
   "version": "3.12.3"
  }
 },
 "nbformat": 4,
 "nbformat_minor": 5
}
