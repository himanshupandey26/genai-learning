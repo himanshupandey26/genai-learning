{
 "cells": [
  {
   "cell_type": "markdown",
   "id": "8ae6aaa7",
   "metadata": {},
   "source": [
    "#### Numpy array operations"
   ]
  },
  {
   "cell_type": "code",
   "execution_count": null,
   "id": "602c3be3",
   "metadata": {},
   "outputs": [],
   "source": [
    "import numpy as np"
   ]
  },
  {
   "cell_type": "code",
   "execution_count": 25,
   "id": "fee853f4",
   "metadata": {},
   "outputs": [
    {
     "name": "stdout",
     "output_type": "stream",
     "text": [
      "Array:  [0 1 2 3 4 5 6 7 8]\n",
      "Slicing array :  [0 1 2 3]\n",
      "Slicing array with step:  [0 2]\n",
      "Negative indexing :  7\n"
     ]
    }
   ],
   "source": [
    "arr = np.arange(0,9)\n",
    "print(\"Array: \",arr)\n",
    "print(\"Slicing array : \", arr[:4])\n",
    "print(\"Slicing array with step: \", arr[:4:2])\n",
    "print(\"Negative indexing : \", arr[-2])\n"
   ]
  },
  {
   "cell_type": "code",
   "execution_count": 39,
   "id": "16cb26d2",
   "metadata": {},
   "outputs": [
    {
     "name": "stdout",
     "output_type": "stream",
     "text": [
      "Reshaped array: \n",
      " [[0 1 2]\n",
      " [3 4 5]\n",
      " [6 7 8]]\n",
      "Specific element:  5\n",
      "Entire row:  [3 4 5]\n",
      "Entire column:  [1 4 7]\n",
      "sub-array:  [[0 1]\n",
      " [3 4]]\n",
      "sub-array:  [[4 5]\n",
      " [7 8]]\n"
     ]
    }
   ],
   "source": [
    "re_arr = arr.reshape(3,3)\n",
    "print(\"Reshaped array: \\n\", re_arr)\n",
    "\n",
    "print(\"Specific element: \",re_arr[1,2])\n",
    "print(\"Entire row: \",re_arr[1])\n",
    "print(\"Entire column: \",re_arr[:,1])\n",
    "\n",
    "print(\"sub-array: \", re_arr[:2,:2])\n",
    "print(\"sub-array: \", re_arr[1:,1:])\n"
   ]
  },
  {
   "cell_type": "markdown",
   "id": "cf308624",
   "metadata": {},
   "source": [
    "#### Sorting\n"
   ]
  },
  {
   "cell_type": "code",
   "execution_count": 48,
   "id": "c806710a",
   "metadata": {},
   "outputs": [
    {
     "name": "stdout",
     "output_type": "stream",
     "text": [
      "Sorted array:  [1 2 3 4 5 6 7]\n",
      "Sorting 2D array column wise:  [[12 12 35]\n",
      " [32 27 42]\n",
      " [34 52 43]]\n",
      "Sorting 2D array row wise:  [[12 32 43]\n",
      " [34 42 52]\n",
      " [12 27 35]]\n"
     ]
    }
   ],
   "source": [
    "unsorted = np.array([3,4,1,7,2,5,6])\n",
    "print(\"Sorted array: \", np.sort(unsorted))\n",
    "\n",
    "unsorted_2d = np.array([[32,12,43],[34,52,42],[12,27,35]])\n",
    "print(\"Sorting 2D array column wise: \", np.sort(unsorted_2d, axis=0))\n",
    "print(\"Sorting 2D array row wise: \", np.sort(unsorted_2d, axis=1))"
   ]
  },
  {
   "cell_type": "markdown",
   "id": "1063fbac",
   "metadata": {},
   "source": [
    "#### filter"
   ]
  },
  {
   "cell_type": "code",
   "execution_count": 57,
   "id": "cd88cbf1",
   "metadata": {},
   "outputs": [
    {
     "name": "stdout",
     "output_type": "stream",
     "text": [
      "[ 2  5  6  7 10]\n",
      "[False  True False  True False  True False  True False  True]\n",
      "[ 2  4  6  8 10]\n"
     ]
    }
   ],
   "source": [
    "numbers = np.arange(1,11)\n",
    "even_numbers = numbers[numbers % 2 == 0]\n",
    "print(numbers[[1,4,5,6,9]])\n",
    "print(numbers % 2 == 0)\n",
    "print(even_numbers)"
   ]
  },
  {
   "cell_type": "code",
   "execution_count": null,
   "id": "fb55d6e5",
   "metadata": {},
   "outputs": [],
   "source": []
  }
 ],
 "metadata": {
  "kernelspec": {
   "display_name": "myenv",
   "language": "python",
   "name": "python3"
  },
  "language_info": {
   "codemirror_mode": {
    "name": "ipython",
    "version": 3
   },
   "file_extension": ".py",
   "mimetype": "text/x-python",
   "name": "python",
   "nbconvert_exporter": "python",
   "pygments_lexer": "ipython3",
   "version": "3.12.3"
  }
 },
 "nbformat": 4,
 "nbformat_minor": 5
}
